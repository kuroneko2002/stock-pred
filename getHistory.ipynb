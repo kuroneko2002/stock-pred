{
 "cells": [
  {
   "cell_type": "code",
   "execution_count": 3,
   "metadata": {},
   "outputs": [],
   "source": [
    "import pandas as pd\n",
    "import yfinance as yf\n",
    "coin_types=[\"BTC-USD\", \"ADA-USD\", \"ETH-USD\"]\n",
    "def get_csv(coin_type):\n",
    "    ticket = yf.Ticker(coin_type)\n",
    "    hist = ticket.history(period=\"5y\")\n",
    "    hist.drop(columns=['Volume', 'Dividends', 'Stock Splits'], inplace=True)\n",
    "    hist.index = pd.to_datetime(hist.index).date\n",
    "    hist = hist.reset_index().rename(columns={'index': 'Date'})\n",
    "    hist[['Open', 'High', 'Low', 'Close']] = hist[['Open', 'High', 'Low', 'Close']].round(5)\n",
    "    hist.to_csv(f\"{coin_type}.csv\", columns=['Date', 'Open', 'High', 'Low', 'Close'], index=False)\n",
    "    return hist\n",
    "\n",
    "for coin_type in coin_types:\n",
    "    get_csv(coin_type)"
   ]
  }
 ],
 "metadata": {
  "kernelspec": {
   "display_name": "Python 3",
   "language": "python",
   "name": "python3"
  },
  "language_info": {
   "codemirror_mode": {
    "name": "ipython",
    "version": 3
   },
   "file_extension": ".py",
   "mimetype": "text/x-python",
   "name": "python",
   "nbconvert_exporter": "python",
   "pygments_lexer": "ipython3",
   "version": "3.9.12"
  },
  "orig_nbformat": 4
 },
 "nbformat": 4,
 "nbformat_minor": 2
}
